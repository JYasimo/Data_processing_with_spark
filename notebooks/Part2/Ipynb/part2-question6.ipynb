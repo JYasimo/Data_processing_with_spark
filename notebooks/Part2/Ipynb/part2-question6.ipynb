{
 "cells": [
  {
   "cell_type": "markdown",
   "metadata": {
    "application/vnd.databricks.v1+cell": {
     "cellMetadata": {},
     "inputWidgets": {},
     "nuid": "fdcd7397-85bb-4c3b-a338-cb150bf57b6e",
     "showTitle": false,
     "title": ""
    }
   },
   "source": [
    "6-Classify each trip into bins of durations:\n",
    "\n",
    "Under 5 Mins\n",
    "\n",
    "From 5 mins to 10 mins\n",
    "\n",
    "From 10 mins to 20 mins\n",
    "\n",
    "From 20 mins to 30 mins\n",
    "\n",
    "From 30 mins to 60 mins\n",
    "\n",
    "At least 60 mins\n",
    "\n",
    "Then for each bins, calculate: \n",
    "\n",
    "Average speed (km per hour)\n",
    "\n",
    "Average distance per dollar (km per $)\n",
    "\n",
    "=> In a Single table/dataframe/output\n"
   ]
  },
  {
   "cell_type": "code",
   "execution_count": 0,
   "metadata": {
    "application/vnd.databricks.v1+cell": {
     "cellMetadata": {
      "byteLimit": 2048000,
      "rowLimit": 10000
     },
     "inputWidgets": {},
     "nuid": "eed4f89a-2bc5-4108-a112-25da60901a7f",
     "showTitle": false,
     "title": ""
    }
   },
   "outputs": [],
   "source": [
    "from pyspark.sql.functions import lit\n",
    "from pyspark.sql import SparkSession\n",
    "\n",
    "df_path= \"/dbfs/mnt/bde2/combined_df\"\n",
    "combined_df= spark.read.parquet(df_path)"
   ]
  },
  {
   "cell_type": "code",
   "execution_count": 0,
   "metadata": {
    "application/vnd.databricks.v1+cell": {
     "cellMetadata": {
      "byteLimit": 2048000,
      "rowLimit": 10000
     },
     "inputWidgets": {},
     "nuid": "b0ca3042-9002-4c36-b7ec-17a955a84ae6",
     "showTitle": false,
     "title": ""
    }
   },
   "outputs": [],
   "source": [
    "#create temp table\n",
    "temp_table_name = 'combined_df'\n",
    "combined_df.createOrReplaceTempView(temp_table_name)"
   ]
  },
  {
   "cell_type": "code",
   "execution_count": 0,
   "metadata": {
    "application/vnd.databricks.v1+cell": {
     "cellMetadata": {
      "byteLimit": 2048000,
      "implicitDf": true,
      "rowLimit": 10000
     },
     "inputWidgets": {},
     "nuid": "f576ac99-726a-4717-b1a1-2bc70dd55c51",
     "showTitle": false,
     "title": ""
    }
   },
   "outputs": [
    {
     "output_type": "display_data",
     "data": {
      "text/html": [
       "<style scoped>\n",
       "  .table-result-container {\n",
       "    max-height: 300px;\n",
       "    overflow: auto;\n",
       "  }\n",
       "  table, th, td {\n",
       "    border: 1px solid black;\n",
       "    border-collapse: collapse;\n",
       "  }\n",
       "  th, td {\n",
       "    padding: 5px;\n",
       "  }\n",
       "  th {\n",
       "    text-align: left;\n",
       "  }\n",
       "</style><div class='table-result-container'><table class='table-result'><thead style='background-color: white'><tr></tr></thead><tbody></tbody></table></div>"
      ]
     },
     "metadata": {
      "application/vnd.databricks.v1+output": {
       "addedWidgets": {},
       "aggData": [],
       "aggError": "",
       "aggOverflow": false,
       "aggSchema": [],
       "aggSeriesLimitReached": false,
       "aggType": "",
       "arguments": {},
       "columnCustomDisplayInfos": {},
       "data": [],
       "datasetInfos": [],
       "dbfsResultPath": null,
       "isJsonSchema": true,
       "metadata": {},
       "overflow": false,
       "plotOptions": {
        "customPlotOptions": {},
        "displayType": "table",
        "pivotAggregation": null,
        "pivotColumns": null,
        "xColumns": null,
        "yColumns": null
       },
       "removedWidgets": [],
       "schema": [],
       "type": "table"
      }
     },
     "output_type": "display_data"
    }
   ],
   "source": [
    "%sql\n",
    "-- create temp view from needed columns\n",
    "CREATE OR REPLACE TEMP VIEW question6 AS\n",
    "SELECT\n",
    "  trip_duration_min,\n",
    "  speed,\n",
    "  trip_distance_km,\n",
    "  total_amount\n",
    "FROM combined_df;"
   ]
  },
  {
   "cell_type": "code",
   "execution_count": 0,
   "metadata": {
    "application/vnd.databricks.v1+cell": {
     "cellMetadata": {
      "byteLimit": 2048000,
      "implicitDf": true,
      "rowLimit": 10000
     },
     "inputWidgets": {},
     "nuid": "7207af25-df88-447e-acfa-d0abcd4a047a",
     "showTitle": false,
     "title": ""
    }
   },
   "outputs": [
    {
     "output_type": "display_data",
     "data": {
      "text/html": [
       "<style scoped>\n",
       "  .table-result-container {\n",
       "    max-height: 300px;\n",
       "    overflow: auto;\n",
       "  }\n",
       "  table, th, td {\n",
       "    border: 1px solid black;\n",
       "    border-collapse: collapse;\n",
       "  }\n",
       "  th, td {\n",
       "    padding: 5px;\n",
       "  }\n",
       "  th {\n",
       "    text-align: left;\n",
       "  }\n",
       "</style><div class='table-result-container'><table class='table-result'><thead style='background-color: white'><tr><th>database</th><th>tableName</th><th>isTemporary</th></tr></thead><tbody><tr><td></td><td>combined_df</td><td>true</td></tr><tr><td></td><td>question6</td><td>true</td></tr></tbody></table></div>"
      ]
     },
     "metadata": {
      "application/vnd.databricks.v1+output": {
       "addedWidgets": {},
       "aggData": [],
       "aggError": "",
       "aggOverflow": false,
       "aggSchema": [],
       "aggSeriesLimitReached": false,
       "aggType": "",
       "arguments": {},
       "columnCustomDisplayInfos": {},
       "data": [
        [
         "",
         "combined_df",
         true
        ],
        [
         "",
         "question6",
         true
        ]
       ],
       "datasetInfos": [],
       "dbfsResultPath": null,
       "isJsonSchema": true,
       "metadata": {},
       "overflow": false,
       "plotOptions": {
        "customPlotOptions": {},
        "displayType": "table",
        "pivotAggregation": null,
        "pivotColumns": null,
        "xColumns": null,
        "yColumns": null
       },
       "removedWidgets": [],
       "schema": [
        {
         "metadata": "{}",
         "name": "database",
         "type": "\"string\""
        },
        {
         "metadata": "{}",
         "name": "tableName",
         "type": "\"string\""
        },
        {
         "metadata": "{}",
         "name": "isTemporary",
         "type": "\"boolean\""
        }
       ],
       "type": "table"
      }
     },
     "output_type": "display_data"
    }
   ],
   "source": [
    "%sql\n",
    "SHOW TAbles;"
   ]
  },
  {
   "cell_type": "code",
   "execution_count": 0,
   "metadata": {
    "application/vnd.databricks.v1+cell": {
     "cellMetadata": {
      "byteLimit": 2048000,
      "implicitDf": true,
      "rowLimit": 10000
     },
     "inputWidgets": {},
     "nuid": "434e7732-9126-4a08-b9ce-a44ac33007a3",
     "showTitle": false,
     "title": ""
    }
   },
   "outputs": [
    {
     "output_type": "display_data",
     "data": {
      "text/html": [
       "<style scoped>\n",
       "  .table-result-container {\n",
       "    max-height: 300px;\n",
       "    overflow: auto;\n",
       "  }\n",
       "  table, th, td {\n",
       "    border: 1px solid black;\n",
       "    border-collapse: collapse;\n",
       "  }\n",
       "  th, td {\n",
       "    padding: 5px;\n",
       "  }\n",
       "  th {\n",
       "    text-align: left;\n",
       "  }\n",
       "</style><div class='table-result-container'><table class='table-result'><thead style='background-color: white'><tr><th>duration_bin</th><th>avg_speed_km_per_hour</th><th>avg_distance_per_dollar</th></tr></thead><tbody><tr><td>30 to 60 Mins</td><td>25.55</td><td>0.35</td></tr><tr><td>At least 60 Mins</td><td>21.94</td><td>0.4</td></tr><tr><td>20 to 30 Mins</td><td>21.13</td><td>0.3</td></tr><tr><td>Under 5 Mins</td><td>21.15</td><td>0.18</td></tr><tr><td>5 to 10 Mins</td><td>17.29</td><td>0.21</td></tr><tr><td>10 to 20 Mins</td><td>17.71</td><td>0.26</td></tr></tbody></table></div>"
      ]
     },
     "metadata": {
      "application/vnd.databricks.v1+output": {
       "addedWidgets": {},
       "aggData": [],
       "aggError": "",
       "aggOverflow": false,
       "aggSchema": [],
       "aggSeriesLimitReached": false,
       "aggType": "",
       "arguments": {},
       "columnCustomDisplayInfos": {},
       "data": [
        [
         "30 to 60 Mins",
         25.55,
         0.35
        ],
        [
         "At least 60 Mins",
         21.94,
         0.4
        ],
        [
         "20 to 30 Mins",
         21.13,
         0.3
        ],
        [
         "Under 5 Mins",
         21.15,
         0.18
        ],
        [
         "5 to 10 Mins",
         17.29,
         0.21
        ],
        [
         "10 to 20 Mins",
         17.71,
         0.26
        ]
       ],
       "datasetInfos": [],
       "dbfsResultPath": null,
       "isJsonSchema": true,
       "metadata": {},
       "overflow": false,
       "plotOptions": {
        "customPlotOptions": {},
        "displayType": "table",
        "pivotAggregation": null,
        "pivotColumns": null,
        "xColumns": null,
        "yColumns": null
       },
       "removedWidgets": [],
       "schema": [
        {
         "metadata": "{}",
         "name": "duration_bin",
         "type": "\"string\""
        },
        {
         "metadata": "{}",
         "name": "avg_speed_km_per_hour",
         "type": "\"double\""
        },
        {
         "metadata": "{}",
         "name": "avg_distance_per_dollar",
         "type": "\"double\""
        }
       ],
       "type": "table"
      }
     },
     "output_type": "display_data"
    }
   ],
   "source": [
    "%sql\n",
    "SELECT -- Categorize and calculate statistics based on trip duration bins.\n",
    "    CASE\n",
    "        WHEN trip_duration_min < 5 THEN 'Under 5 Mins' --use bin to categorize minutes\n",
    "        WHEN trip_duration_min >= 5 AND trip_duration_min <= 10 THEN '5 to 10 Mins'\n",
    "        WHEN trip_duration_min > 10 AND trip_duration_min <= 20 THEN '10 to 20 Mins'\n",
    "        WHEN trip_duration_min > 20 AND trip_duration_min <= 30 THEN '20 to 30 Mins'\n",
    "        WHEN trip_duration_min > 30 AND trip_duration_min <= 60 THEN '30 to 60 Mins'\n",
    "        ELSE 'At least 60 Mins'\n",
    "    END AS duration_bin,\n",
    "    ROUND(AVG(speed),2) AS avg_speed_km_per_hour,\n",
    "    ROUND(AVG(trip_distance_km / total_amount),2) AS avg_distance_per_dollar\n",
    "FROM question6-- The source table 'question6' containing trip data.\n",
    "GROUP BY duration_bin-- Group the data by the duration bins for aggregation.\n"
   ]
  }
 ],
 "metadata": {
  "application/vnd.databricks.v1+notebook": {
   "dashboards": [],
   "language": "python",
   "notebookMetadata": {
    "mostRecentlyExecutedCommandWithImplicitDF": {
     "commandId": 4317239838960416,
     "dataframes": [
      "_sqldf"
     ]
    },
    "pythonIndentUnit": 4
   },
   "notebookName": "part2-question6",
   "widgets": {}
  }
 },
 "nbformat": 4,
 "nbformat_minor": 0
}
